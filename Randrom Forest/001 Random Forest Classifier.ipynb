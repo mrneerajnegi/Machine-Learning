{
 "cells": [
  {
   "cell_type": "raw",
   "id": "57c88d56",
   "metadata": {},
   "source": [
    "# why not continue to use Decision tree , so what is the improvement in decison tree.\n",
    "1. Random forest will remove the overfitting.\n"
   ]
  },
  {
   "cell_type": "raw",
   "id": "969b56c6",
   "metadata": {},
   "source": [
    "Random Forest parameters :\n",
    "    -Number of parameters (start with 100 as default, feel free to use gridsearch)\n",
    "    -Number of features (Start with sqrt(N) , grid search for other possible values.)\n",
    "    -Boostraping samples(process of random sampling and allowing to pick more then once) its True by default\n",
    "    -Out-Of-Bag-Error(oobe) : OOB Samples - not used for constructing trees due to boostraping,we could use these \n",
    "     to get performance test metrics\n",
    "    -oob is an alernative method to calcualte performance\n",
    "\n",
    "* Boostraping - True/False can change the tree\n",
    "* OOB - True/ False will not change the tree, it just to wether keep the track of unused rows or not"
   ]
  },
  {
   "cell_type": "raw",
   "id": "53dd5e22",
   "metadata": {},
   "source": [
    "Random forest doesn't overfit. You can run as many trees as you want."
   ]
  },
  {
   "cell_type": "code",
   "execution_count": 20,
   "id": "912e0ecd",
   "metadata": {},
   "outputs": [],
   "source": [
    "import pandas as pd\n",
    "import seaborn as sbn\n",
    "import matplotlib.pyplot as plt\n",
    "from sklearn.ensemble import RandomForestClassifier\n",
    "import numpy as np\n",
    "from sklearn.model_selection import train_test_split\n",
    "from sklearn.metrics import confusion_matrix,plot_confusion_matrix,classification_report"
   ]
  },
  {
   "cell_type": "code",
   "execution_count": 16,
   "id": "d2972709",
   "metadata": {},
   "outputs": [],
   "source": [
    "df=pd.read_csv(\"./penguins_size.csv\")\n",
    "df.head()\n",
    "df=df.dropna()\n",
    "X=pd.get_dummies(df.drop(\"species\",axis=1),drop_first=True)\n",
    "Y=df[\"species\"]\n"
   ]
  },
  {
   "cell_type": "code",
   "execution_count": 17,
   "id": "59f3090c",
   "metadata": {},
   "outputs": [],
   "source": [
    "X_train, X_test, y_train, y_test = train_test_split(X, Y, test_size=0.10, random_state=42)"
   ]
  },
  {
   "cell_type": "code",
   "execution_count": 18,
   "id": "293d9dad",
   "metadata": {},
   "outputs": [
    {
     "data": {
      "text/plain": [
       "RandomForestClassifier(random_state=42)"
      ]
     },
     "execution_count": 18,
     "metadata": {},
     "output_type": "execute_result"
    }
   ],
   "source": [
    "rfc=RandomForestClassifier(n_estimators=100,max_features=\"auto\",random_state=42)\n",
    "rfc.fit(X_train,y_train)"
   ]
  },
  {
   "cell_type": "code",
   "execution_count": 19,
   "id": "b2761d65",
   "metadata": {},
   "outputs": [],
   "source": [
    "predictions=rfc.predict(X_test)"
   ]
  },
  {
   "cell_type": "code",
   "execution_count": 21,
   "id": "34d9d056",
   "metadata": {},
   "outputs": [
    {
     "data": {
      "text/plain": [
       "array([[15,  0,  0],\n",
       "       [ 0,  8,  0],\n",
       "       [ 0,  0, 11]])"
      ]
     },
     "execution_count": 21,
     "metadata": {},
     "output_type": "execute_result"
    }
   ],
   "source": [
    "confusion_matrix(y_test,predictions)"
   ]
  },
  {
   "cell_type": "code",
   "execution_count": 22,
   "id": "3c177482",
   "metadata": {},
   "outputs": [
    {
     "data": {
      "text/plain": [
       "<sklearn.metrics._plot.confusion_matrix.ConfusionMatrixDisplay at 0x7f807bbf42e0>"
      ]
     },
     "execution_count": 22,
     "metadata": {},
     "output_type": "execute_result"
    },
    {
     "data": {
      "image/png": "[encoded data removed]",
      "text/plain": [
       "<Figure size 432x288 with 2 Axes>"
      ]
     },
     "metadata": {
      "needs_background": "light"
     },
     "output_type": "display_data"
    }
   ],
   "source": [
    "plot_confusion_matrix(rfc,X_test,y_test)"
   ]
  },
  {
   "cell_type": "code",
   "execution_count": 23,
   "id": "3c073732",
   "metadata": {},
   "outputs": [
    {
     "name": "stdout",
     "output_type": "stream",
     "text": [
      "              precision    recall  f1-score   support\n",
      "\n",
      "      Adelie       1.00      1.00      1.00        15\n",
      "   Chinstrap       1.00      1.00      1.00         8\n",
      "      Gentoo       1.00      1.00      1.00        11\n",
      "\n",
      "    accuracy                           1.00        34\n",
      "   macro avg       1.00      1.00      1.00        34\n",
      "weighted avg       1.00      1.00      1.00        34\n",
      "\n"
     ]
    }
   ],
   "source": [
    "print(classification_report(y_test,predictions))"
   ]
  },
  {
   "cell_type": "code",
   "execution_count": 24,
   "id": "ca61be17",
   "metadata": {},
   "outputs": [
    {
     "data": {
      "text/plain": [
       "array([0.32550463, 0.17314747, 0.26275684, 0.10553207, 0.09935224,\n",
       "       0.02347453, 0.00461943, 0.0056128 ])"
      ]
     },
     "execution_count": 24,
     "metadata": {},
     "output_type": "execute_result"
    }
   ],
   "source": [
    "rfc.feature_importances_"
   ]
  },
  {
   "cell_type": "code",
   "execution_count": null,
   "id": "e64c9205",
   "metadata": {},
   "outputs": [],
   "source": []
  }
 ],
 "metadata": {
  "kernelspec": {
   "display_name": "Python 3",
   "language": "python",
   "name": "python3"
  },
  "language_info": {
   "codemirror_mode": {
    "name": "ipython",
    "version": 3
   },
   "file_extension": ".py",
   "mimetype": "text/x-python",
   "name": "python",
   "nbconvert_exporter": "python",
   "pygments_lexer": "ipython3",
   "version": "3.8.8"
  }
 },
 "nbformat": 4,
 "nbformat_minor": 5
}
