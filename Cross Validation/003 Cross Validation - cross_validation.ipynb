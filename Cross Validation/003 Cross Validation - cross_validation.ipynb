{
 "cells": [
  {
   "cell_type": "raw",
   "id": "51de6d41",
   "metadata": {},
   "source": [
    "Cross-validation is primarily used in applied machine learning to estimate the skill of a machine learning model on unseen data. That is, to use a limited sample in order to estimate how the model is expected to perform in general when used to make predictions on data not used during the training of the model.\n",
    "cv= number of split\n",
    " - A model is trained using k−1 of the folds as training data;\n",
    " - The resulting model is validated on the remaining part of the data (i.e., it is used as a test set to compute a performance measure such as accuracy)."
   ]
  },
  {
   "cell_type": "code",
   "execution_count": 1,
   "id": "d3e9af88",
   "metadata": {},
   "outputs": [],
   "source": [
    "import pandas as pd\n",
    "import numpy as np\n",
    "import seaborn as sbn\n",
    "import matplotlib.pyplot as plt\n",
    "from sklearn.model_selection import train_test_split\n",
    "from sklearn.linear_model import Ridge\n",
    "from sklearn.metrics import mean_absolute_error,mean_squared_error\n",
    "from sklearn.preprocessing import StandardScaler\n",
    "from sklearn.model_selection import cross_val_score,cross_validate"
   ]
  },
  {
   "cell_type": "code",
   "execution_count": 2,
   "id": "043d09a8",
   "metadata": {},
   "outputs": [],
   "source": [
    "df=pd.read_csv(\"./Advertising.csv\")\n",
    "df.head()\n",
    "Y=df[\"sales\"]\n",
    "X=df.drop(\"sales\",axis=1)"
   ]
  },
  {
   "cell_type": "code",
   "execution_count": 3,
   "id": "dfc601f3",
   "metadata": {},
   "outputs": [],
   "source": [
    "X_train, X_test, y_train, y_test = train_test_split(X, Y, test_size=0.33, random_state=42)"
   ]
  },
  {
   "cell_type": "code",
   "execution_count": 4,
   "id": "0f53fbb3",
   "metadata": {},
   "outputs": [],
   "source": [
    "model=Ridge(alpha=1)"
   ]
  },
  {
   "cell_type": "code",
   "execution_count": 5,
   "id": "1f98568b",
   "metadata": {},
   "outputs": [],
   "source": [
    "scaler=StandardScaler()\n",
    "scaler.fit(X_train)\n",
    "X_train=scaler.transform(X_train)\n",
    "X_test=scaler.transform(X_test)"
   ]
  },
  {
   "cell_type": "code",
   "execution_count": 6,
   "id": "0a35dc96",
   "metadata": {},
   "outputs": [
    {
     "data": {
      "text/plain": [
       "Ridge(alpha=1)"
      ]
     },
     "execution_count": 6,
     "metadata": {},
     "output_type": "execute_result"
    }
   ],
   "source": [
    "model.fit(X_train,y_train)"
   ]
  },
  {
   "cell_type": "code",
   "execution_count": 7,
   "id": "dd5af16a",
   "metadata": {},
   "outputs": [],
   "source": [
    "score=cross_val_score(model,X_train,y_train,cv=2,scoring=\"neg_mean_squared_error\")"
   ]
  },
  {
   "cell_type": "code",
   "execution_count": 8,
   "id": "ece361e7",
   "metadata": {},
   "outputs": [
    {
     "data": {
      "text/plain": [
       "array([-1.92528814, -3.12032137])"
      ]
     },
     "execution_count": 8,
     "metadata": {},
     "output_type": "execute_result"
    }
   ],
   "source": [
    "score"
   ]
  },
  {
   "cell_type": "code",
   "execution_count": 9,
   "id": "12cea871",
   "metadata": {},
   "outputs": [
    {
     "data": {
      "text/plain": [
       "3.7310152520189765"
      ]
     },
     "execution_count": 9,
     "metadata": {},
     "output_type": "execute_result"
    }
   ],
   "source": [
    "test_predict=model.predict(X_test)\n",
    "mean_squared_error(test_predict,y_test)\n"
   ]
  },
  {
   "cell_type": "code",
   "execution_count": 10,
   "id": "63cad4b6",
   "metadata": {},
   "outputs": [
    {
     "data": {
      "text/plain": [
       "0.8554372365134741"
      ]
     },
     "execution_count": 10,
     "metadata": {},
     "output_type": "execute_result"
    }
   ],
   "source": [
    "model.score(X_test,y_test)"
   ]
  },
  {
   "cell_type": "markdown",
   "id": "d1733e52",
   "metadata": {},
   "source": [
    "# cross_validation"
   ]
  },
  {
   "cell_type": "raw",
   "id": "bf7391f6",
   "metadata": {},
   "source": [
    "-allows us to view mulitple performance metrics from cross validation on a model\n",
    "-tell us fitting and testing time"
   ]
  },
  {
   "cell_type": "code",
   "execution_count": 13,
   "id": "60398aca",
   "metadata": {},
   "outputs": [
    {
     "data": {
      "text/plain": [
       "dict_keys(['explained_variance', 'r2', 'max_error', 'neg_median_absolute_error', 'neg_mean_absolute_error', 'neg_mean_absolute_percentage_error', 'neg_mean_squared_error', 'neg_mean_squared_log_error', 'neg_root_mean_squared_error', 'neg_mean_poisson_deviance', 'neg_mean_gamma_deviance', 'accuracy', 'top_k_accuracy', 'roc_auc', 'roc_auc_ovr', 'roc_auc_ovo', 'roc_auc_ovr_weighted', 'roc_auc_ovo_weighted', 'balanced_accuracy', 'average_precision', 'neg_log_loss', 'neg_brier_score', 'adjusted_rand_score', 'rand_score', 'homogeneity_score', 'completeness_score', 'v_measure_score', 'mutual_info_score', 'adjusted_mutual_info_score', 'normalized_mutual_info_score', 'fowlkes_mallows_score', 'precision', 'precision_macro', 'precision_micro', 'precision_samples', 'precision_weighted', 'recall', 'recall_macro', 'recall_micro', 'recall_samples', 'recall_weighted', 'f1', 'f1_macro', 'f1_micro', 'f1_samples', 'f1_weighted', 'jaccard', 'jaccard_macro', 'jaccard_micro', 'jaccard_samples', 'jaccard_weighted'])"
      ]
     },
     "execution_count": 13,
     "metadata": {},
     "output_type": "execute_result"
    }
   ],
   "source": [
    "from sklearn.metrics import SCORERS\n",
    "SCORERS.keys()\n"
   ]
  },
  {
   "cell_type": "code",
   "execution_count": 18,
   "id": "e618967e",
   "metadata": {},
   "outputs": [],
   "source": [
    "scores=cross_validate(model,X_train,y_train,cv=10,scoring=[\"neg_mean_absolute_error\",\"neg_mean_squared_error\"])"
   ]
  },
  {
   "cell_type": "code",
   "execution_count": 19,
   "id": "d19244c8",
   "metadata": {},
   "outputs": [
    {
     "data": {
      "text/plain": [
       "{'fit_time': array([0.00220108, 0.00158906, 0.00209713, 0.00223804, 0.00272107,\n",
       "        0.00133705, 0.00173306, 0.0033102 , 0.00290895, 0.00155091]),\n",
       " 'score_time': array([0.00091195, 0.00143886, 0.00208092, 0.00125813, 0.00097489,\n",
       "        0.00106716, 0.00114703, 0.00201201, 0.00246716, 0.00073004]),\n",
       " 'test_neg_mean_absolute_error': array([-0.99348374, -1.21410687, -0.86185525, -0.9912492 , -1.38476266,\n",
       "        -1.20213837, -1.28148869, -1.25129628, -1.733063  , -0.94630705]),\n",
       " 'test_neg_mean_squared_error': array([-1.62851308, -2.57064135, -1.025206  , -1.63193981, -2.77764994,\n",
       "        -2.54958462, -2.33345137, -1.90140754, -8.97792898, -1.73991679])}"
      ]
     },
     "execution_count": 19,
     "metadata": {},
     "output_type": "execute_result"
    }
   ],
   "source": [
    "scores"
   ]
  },
  {
   "cell_type": "code",
   "execution_count": 20,
   "id": "10da5d91",
   "metadata": {},
   "outputs": [
    {
     "data": {
      "text/html": [
       "<div>\n",
       "<style scoped>\n",
       "    .dataframe tbody tr th:only-of-type {\n",
       "        vertical-align: middle;\n",
       "    }\n",
       "\n",
       "    .dataframe tbody tr th {\n",
       "        vertical-align: top;\n",
       "    }\n",
       "\n",
       "    .dataframe thead th {\n",
       "        text-align: right;\n",
       "    }\n",
       "</style>\n",
       "<table border=\"1\" class=\"dataframe\">\n",
       "  <thead>\n",
       "    <tr style=\"text-align: right;\">\n",
       "      <th></th>\n",
       "      <th>fit_time</th>\n",
       "      <th>score_time</th>\n",
       "      <th>test_neg_mean_absolute_error</th>\n",
       "      <th>test_neg_mean_squared_error</th>\n",
       "    </tr>\n",
       "  </thead>\n",
       "  <tbody>\n",
       "    <tr>\n",
       "      <th>0</th>\n",
       "      <td>0.002201</td>\n",
       "      <td>0.000912</td>\n",
       "      <td>-0.993484</td>\n",
       "      <td>-1.628513</td>\n",
       "    </tr>\n",
       "    <tr>\n",
       "      <th>1</th>\n",
       "      <td>0.001589</td>\n",
       "      <td>0.001439</td>\n",
       "      <td>-1.214107</td>\n",
       "      <td>-2.570641</td>\n",
       "    </tr>\n",
       "    <tr>\n",
       "      <th>2</th>\n",
       "      <td>0.002097</td>\n",
       "      <td>0.002081</td>\n",
       "      <td>-0.861855</td>\n",
       "      <td>-1.025206</td>\n",
       "    </tr>\n",
       "    <tr>\n",
       "      <th>3</th>\n",
       "      <td>0.002238</td>\n",
       "      <td>0.001258</td>\n",
       "      <td>-0.991249</td>\n",
       "      <td>-1.631940</td>\n",
       "    </tr>\n",
       "    <tr>\n",
       "      <th>4</th>\n",
       "      <td>0.002721</td>\n",
       "      <td>0.000975</td>\n",
       "      <td>-1.384763</td>\n",
       "      <td>-2.777650</td>\n",
       "    </tr>\n",
       "    <tr>\n",
       "      <th>5</th>\n",
       "      <td>0.001337</td>\n",
       "      <td>0.001067</td>\n",
       "      <td>-1.202138</td>\n",
       "      <td>-2.549585</td>\n",
       "    </tr>\n",
       "    <tr>\n",
       "      <th>6</th>\n",
       "      <td>0.001733</td>\n",
       "      <td>0.001147</td>\n",
       "      <td>-1.281489</td>\n",
       "      <td>-2.333451</td>\n",
       "    </tr>\n",
       "    <tr>\n",
       "      <th>7</th>\n",
       "      <td>0.003310</td>\n",
       "      <td>0.002012</td>\n",
       "      <td>-1.251296</td>\n",
       "      <td>-1.901408</td>\n",
       "    </tr>\n",
       "    <tr>\n",
       "      <th>8</th>\n",
       "      <td>0.002909</td>\n",
       "      <td>0.002467</td>\n",
       "      <td>-1.733063</td>\n",
       "      <td>-8.977929</td>\n",
       "    </tr>\n",
       "    <tr>\n",
       "      <th>9</th>\n",
       "      <td>0.001551</td>\n",
       "      <td>0.000730</td>\n",
       "      <td>-0.946307</td>\n",
       "      <td>-1.739917</td>\n",
       "    </tr>\n",
       "  </tbody>\n",
       "</table>\n",
       "</div>"
      ],
      "text/plain": [
       "   fit_time  score_time  test_neg_mean_absolute_error  \\\n",
       "0  0.002201    0.000912                     -0.993484   \n",
       "1  0.001589    0.001439                     -1.214107   \n",
       "2  0.002097    0.002081                     -0.861855   \n",
       "3  0.002238    0.001258                     -0.991249   \n",
       "4  0.002721    0.000975                     -1.384763   \n",
       "5  0.001337    0.001067                     -1.202138   \n",
       "6  0.001733    0.001147                     -1.281489   \n",
       "7  0.003310    0.002012                     -1.251296   \n",
       "8  0.002909    0.002467                     -1.733063   \n",
       "9  0.001551    0.000730                     -0.946307   \n",
       "\n",
       "   test_neg_mean_squared_error  \n",
       "0                    -1.628513  \n",
       "1                    -2.570641  \n",
       "2                    -1.025206  \n",
       "3                    -1.631940  \n",
       "4                    -2.777650  \n",
       "5                    -2.549585  \n",
       "6                    -2.333451  \n",
       "7                    -1.901408  \n",
       "8                    -8.977929  \n",
       "9                    -1.739917  "
      ]
     },
     "execution_count": 20,
     "metadata": {},
     "output_type": "execute_result"
    }
   ],
   "source": [
    "df=pd.DataFrame(scores)\n",
    "df"
   ]
  },
  {
   "cell_type": "code",
   "execution_count": 21,
   "id": "a1f79ad4",
   "metadata": {},
   "outputs": [
    {
     "data": {
      "text/plain": [
       "fit_time                        0.002169\n",
       "score_time                      0.001409\n",
       "test_neg_mean_absolute_error   -1.185975\n",
       "test_neg_mean_squared_error    -2.713624\n",
       "dtype: float64"
      ]
     },
     "execution_count": 21,
     "metadata": {},
     "output_type": "execute_result"
    }
   ],
   "source": [
    "df.mean()"
   ]
  },
  {
   "cell_type": "code",
   "execution_count": 24,
   "id": "e99c7648",
   "metadata": {},
   "outputs": [
    {
     "data": {
      "text/plain": [
       "fit_time                        0.001536\n",
       "score_time                      0.001146\n",
       "test_neg_mean_absolute_error   -2.033839\n",
       "test_neg_mean_squared_error    -7.084252\n",
       "dtype: float64"
      ]
     },
     "execution_count": 24,
     "metadata": {},
     "output_type": "execute_result"
    }
   ],
   "source": [
    "model=Ridge(alpha=100) # worst model\n",
    "scores=cross_validate(model,X_train,y_train,cv=10,scoring=[\"neg_mean_absolute_error\",\"neg_mean_squared_error\"])\n",
    "df=pd.DataFrame(scores)\n",
    "df.mean()"
   ]
  },
  {
   "cell_type": "code",
   "execution_count": null,
   "id": "01842310",
   "metadata": {},
   "outputs": [],
   "source": []
  }
 ],
 "metadata": {
  "kernelspec": {
   "display_name": "Python 3",
   "language": "python",
   "name": "python3"
  },
  "language_info": {
   "codemirror_mode": {
    "name": "ipython",
    "version": 3
   },
   "file_extension": ".py",
   "mimetype": "text/x-python",
   "name": "python",
   "nbconvert_exporter": "python",
   "pygments_lexer": "ipython3",
   "version": "3.8.8"
  }
 },
 "nbformat": 4,
 "nbformat_minor": 5
}
