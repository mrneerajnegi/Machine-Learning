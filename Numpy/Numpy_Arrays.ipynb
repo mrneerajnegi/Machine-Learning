{
 "cells": [
  {
   "cell_type": "code",
   "execution_count": 1,
   "id": "67b53041",
   "metadata": {},
   "outputs": [],
   "source": [
    "import numpy as np\n"
   ]
  },
  {
   "cell_type": "code",
   "execution_count": 2,
   "id": "24a87e36",
   "metadata": {},
   "outputs": [],
   "source": [
    "ar=[\"Neeraj\",\"Singh\",\"Negi\"]"
   ]
  },
  {
   "cell_type": "code",
   "execution_count": 3,
   "id": "2682a93f",
   "metadata": {},
   "outputs": [],
   "source": [
    "nparray=np.array(ar)"
   ]
  },
  {
   "cell_type": "code",
   "execution_count": 4,
   "id": "bc0734e6",
   "metadata": {},
   "outputs": [
    {
     "data": {
      "text/plain": [
       "array(['Neeraj', 'Singh', 'Negi'], dtype='<U6')"
      ]
     },
     "execution_count": 4,
     "metadata": {},
     "output_type": "execute_result"
    }
   ],
   "source": [
    "nparray"
   ]
  },
  {
   "cell_type": "code",
   "execution_count": 5,
   "id": "ab161ff1",
   "metadata": {},
   "outputs": [
    {
     "data": {
      "text/plain": [
       "dtype('<U6')"
      ]
     },
     "execution_count": 5,
     "metadata": {},
     "output_type": "execute_result"
    }
   ],
   "source": [
    "nparray.dtype"
   ]
  },
  {
   "cell_type": "code",
   "execution_count": 6,
   "id": "e4a58549",
   "metadata": {},
   "outputs": [
    {
     "data": {
      "text/plain": [
       "(3,)"
      ]
     },
     "execution_count": 6,
     "metadata": {},
     "output_type": "execute_result"
    }
   ],
   "source": [
    "nparray.shape"
   ]
  },
  {
   "cell_type": "code",
   "execution_count": 7,
   "id": "f477af8f",
   "metadata": {},
   "outputs": [
    {
     "data": {
      "text/plain": [
       "array([[0., 0., 0.],\n",
       "       [0., 0., 0.],\n",
       "       [0., 0., 0.]])"
      ]
     },
     "execution_count": 7,
     "metadata": {},
     "output_type": "execute_result"
    }
   ],
   "source": [
    "np.zeros((3,3))"
   ]
  },
  {
   "cell_type": "code",
   "execution_count": 8,
   "id": "702e6d97",
   "metadata": {},
   "outputs": [
    {
     "data": {
      "text/plain": [
       "array([[1., 0., 0., 0., 0.],\n",
       "       [0., 1., 0., 0., 0.],\n",
       "       [0., 0., 1., 0., 0.],\n",
       "       [0., 0., 0., 1., 0.],\n",
       "       [0., 0., 0., 0., 1.]])"
      ]
     },
     "execution_count": 8,
     "metadata": {},
     "output_type": "execute_result"
    }
   ],
   "source": [
    "np.eye(5)"
   ]
  },
  {
   "cell_type": "code",
   "execution_count": 9,
   "id": "98fc1dac",
   "metadata": {},
   "outputs": [],
   "source": [
    "identity=np.identity(4)"
   ]
  },
  {
   "cell_type": "code",
   "execution_count": 10,
   "id": "a058f8ea",
   "metadata": {},
   "outputs": [
    {
     "data": {
      "text/plain": [
       "dtype('float64')"
      ]
     },
     "execution_count": 10,
     "metadata": {},
     "output_type": "execute_result"
    }
   ],
   "source": [
    "identity.dtype"
   ]
  },
  {
   "cell_type": "code",
   "execution_count": 11,
   "id": "9b51fade",
   "metadata": {},
   "outputs": [],
   "source": [
    "identity[0][3]=2"
   ]
  },
  {
   "cell_type": "code",
   "execution_count": 12,
   "id": "55344e10",
   "metadata": {},
   "outputs": [],
   "source": [
    "transposee=identity.transpose()"
   ]
  },
  {
   "cell_type": "code",
   "execution_count": 13,
   "id": "5396ea85",
   "metadata": {},
   "outputs": [
    {
     "data": {
      "text/plain": [
       "array([[1., 0., 0., 0.],\n",
       "       [0., 1., 0., 0.],\n",
       "       [0., 0., 1., 0.],\n",
       "       [2., 0., 0., 1.]])"
      ]
     },
     "execution_count": 13,
     "metadata": {},
     "output_type": "execute_result"
    }
   ],
   "source": [
    "transposee"
   ]
  },
  {
   "cell_type": "code",
   "execution_count": 14,
   "id": "26e2a6c1",
   "metadata": {},
   "outputs": [],
   "source": [
    "a=list(np.arange(20))"
   ]
  },
  {
   "cell_type": "code",
   "execution_count": 15,
   "id": "0e36d3a7",
   "metadata": {},
   "outputs": [
    {
     "data": {
      "text/plain": [
       "[0, 1, 2, 3, 4, 5, 6, 7, 8, 9, 10, 11, 12, 13, 14, 15, 16, 17, 18, 19]"
      ]
     },
     "execution_count": 15,
     "metadata": {},
     "output_type": "execute_result"
    }
   ],
   "source": [
    "a"
   ]
  },
  {
   "cell_type": "code",
   "execution_count": 16,
   "id": "3febfe3a",
   "metadata": {},
   "outputs": [
    {
     "data": {
      "text/plain": [
       "[20,\n",
       " 21,\n",
       " 22,\n",
       " 23,\n",
       " 24,\n",
       " 25,\n",
       " 26,\n",
       " 27,\n",
       " 28,\n",
       " 29,\n",
       " 30,\n",
       " 31,\n",
       " 32,\n",
       " 33,\n",
       " 34,\n",
       " 35,\n",
       " 36,\n",
       " 37,\n",
       " 38,\n",
       " 39]"
      ]
     },
     "execution_count": 16,
     "metadata": {},
     "output_type": "execute_result"
    }
   ],
   "source": [
    "a=list(np.arange(20,40))\n",
    "a"
   ]
  },
  {
   "cell_type": "code",
   "execution_count": 17,
   "id": "979cc58e",
   "metadata": {},
   "outputs": [
    {
     "data": {
      "text/plain": [
       "[20, 25, 30, 35]"
      ]
     },
     "execution_count": 17,
     "metadata": {},
     "output_type": "execute_result"
    }
   ],
   "source": [
    "a=list(np.arange(20,40,5))\n",
    "a"
   ]
  },
  {
   "cell_type": "code",
   "execution_count": 18,
   "id": "d369060b",
   "metadata": {},
   "outputs": [
    {
     "data": {
      "text/plain": [
       "array([0., 0., 0., 0., 0., 0., 0., 0., 0., 0.])"
      ]
     },
     "execution_count": 18,
     "metadata": {},
     "output_type": "execute_result"
    }
   ],
   "source": [
    "a=np.zeros(10)\n",
    "a"
   ]
  },
  {
   "cell_type": "code",
   "execution_count": 19,
   "id": "5668c8a7",
   "metadata": {},
   "outputs": [
    {
     "data": {
      "text/plain": [
       "array([1., 1., 1., 1., 1.])"
      ]
     },
     "execution_count": 19,
     "metadata": {},
     "output_type": "execute_result"
    }
   ],
   "source": [
    "b=np.ones(5)\n",
    "b"
   ]
  },
  {
   "cell_type": "code",
   "execution_count": 20,
   "id": "7abb6bbc",
   "metadata": {},
   "outputs": [
    {
     "data": {
      "text/plain": [
       "array([1. , 1.8, 2.6, 3.4, 4.2, 5. ])"
      ]
     },
     "execution_count": 20,
     "metadata": {},
     "output_type": "execute_result"
    }
   ],
   "source": [
    "line=np.linspace(1,5,6)\n",
    "line"
   ]
  },
  {
   "cell_type": "code",
   "execution_count": 21,
   "id": "1d41bbf1",
   "metadata": {},
   "outputs": [
    {
     "data": {
      "text/plain": [
       "array([ 0.        ,  1.11111111,  2.22222222,  3.33333333,  4.44444444,\n",
       "        5.55555556,  6.66666667,  7.77777778,  8.88888889, 10.        ])"
      ]
     },
     "execution_count": 21,
     "metadata": {},
     "output_type": "execute_result"
    }
   ],
   "source": [
    "line=np.linspace(0,10,10)\n",
    "line"
   ]
  },
  {
   "cell_type": "code",
   "execution_count": 22,
   "id": "922c1bb9",
   "metadata": {},
   "outputs": [
    {
     "data": {
      "text/plain": [
       "array([[0.75556267, 0.1907103 , 0.43808693, 0.05335904, 0.61866843,\n",
       "        0.58789223, 0.23339547, 0.34376165, 0.51726499, 0.93296654],\n",
       "       [0.42631955, 0.10518598, 0.12288931, 0.67724925, 0.77295599,\n",
       "        0.96681765, 0.60291706, 0.35826308, 0.62799459, 0.69045326],\n",
       "       [0.17937689, 0.38290476, 0.23729761, 0.96035465, 0.76108169,\n",
       "        0.14127529, 0.71938605, 0.44130088, 0.67843345, 0.58901257],\n",
       "       [0.84388691, 0.62175678, 0.87229563, 0.36820327, 0.95782322,\n",
       "        0.46598431, 0.73719233, 0.03645288, 0.88706463, 0.23007075],\n",
       "       [0.11184493, 0.89023704, 0.73575505, 0.51941771, 0.3866713 ,\n",
       "        0.22726415, 0.04219535, 0.7970341 , 0.00980405, 0.57089373],\n",
       "       [0.99597014, 0.16479945, 0.74452389, 0.80418133, 0.27129054,\n",
       "        0.6130016 , 0.24018446, 0.27653573, 0.96271189, 0.61780473],\n",
       "       [0.8374319 , 0.56896989, 0.44673548, 0.34984592, 0.52150436,\n",
       "        0.78006785, 0.77652191, 0.0462062 , 0.20177573, 0.5688222 ],\n",
       "       [0.58084278, 0.15260342, 0.0665476 , 0.4318553 , 0.57152603,\n",
       "        0.57215986, 0.47590397, 0.17810058, 0.26174533, 0.85462819],\n",
       "       [0.39602885, 0.56799296, 0.66604908, 0.80856483, 0.76353164,\n",
       "        0.25033361, 0.86324331, 0.14811189, 0.18254356, 0.53553701],\n",
       "       [0.39398046, 0.86902054, 0.03859593, 0.34158998, 0.81603214,\n",
       "        0.89622661, 0.8619103 , 0.01064703, 0.23158728, 0.22570321]])"
      ]
     },
     "execution_count": 22,
     "metadata": {},
     "output_type": "execute_result"
    }
   ],
   "source": [
    "random_=np.random.rand(10,10)\n",
    "random_"
   ]
  },
  {
   "cell_type": "code",
   "execution_count": 23,
   "id": "6b91fa1e",
   "metadata": {},
   "outputs": [
    {
     "data": {
      "text/plain": [
       "array([-0.249664  , -0.10248915,  1.38624919,  1.13216069,  0.53458762,\n",
       "        2.68734453, -1.3699276 ,  1.10946877,  0.14978882, -0.36889207])"
      ]
     },
     "execution_count": 23,
     "metadata": {},
     "output_type": "execute_result"
    }
   ],
   "source": [
    "#give you standarize list, mean=0 and varience =1\n",
    "random_=np.random.randn(10)\n",
    "random_"
   ]
  },
  {
   "cell_type": "code",
   "execution_count": 24,
   "id": "1c399987",
   "metadata": {},
   "outputs": [
    {
     "data": {
      "text/plain": [
       "array([[ 0.87109563,  1.1565789 ,  0.33300299, -1.18742792, -0.30535612,\n",
       "        -1.28263512, -1.15963543, -2.17837933,  0.24953348, -0.44840915],\n",
       "       [ 0.42763778, -1.12745736, -0.31700395,  0.16964091, -0.5094929 ,\n",
       "         0.65433552, -0.36992419,  0.87626766, -0.40563945,  0.96944211],\n",
       "       [-0.1941959 , -0.67065882, -0.47950219, -1.31351873,  0.06753176,\n",
       "        -0.59579741,  0.89794742,  1.21630262,  0.66732725, -1.37199611],\n",
       "       [-1.1542176 , -0.93564404,  0.28013   , -0.35874918, -0.88658326,\n",
       "         0.17569069,  0.40057419, -1.85633983, -0.45100294, -0.27860357],\n",
       "       [-2.06294948, -1.20728453,  0.19123182,  0.48261966,  1.49202772,\n",
       "         1.06543898,  1.31868501,  0.78068611, -0.51872356, -0.80087083],\n",
       "       [ 0.28672568,  0.77407805, -1.01643547, -0.04804702, -0.23295984,\n",
       "        -0.24336259, -0.9307097 , -0.15414956, -0.32019419, -0.30194003],\n",
       "       [ 0.69061678,  0.83376083, -0.67128203, -0.45481954,  1.07671521,\n",
       "        -1.36625182, -0.92233305,  1.25927386,  0.64929452, -1.01001453],\n",
       "       [ 0.71829698, -1.33569874,  0.9142026 , -0.20609611,  0.10876401,\n",
       "        -0.27980157,  0.74060677, -0.63376276,  0.82207444,  0.14804691],\n",
       "       [ 0.49878518, -0.10056507,  0.62309081,  0.23526396,  1.02297201,\n",
       "        -0.08083521, -0.61778265,  0.69694236,  0.06520011,  0.4119674 ],\n",
       "       [ 1.02947051, -0.31870542,  2.57803058,  0.52292947, -0.195316  ,\n",
       "        -0.22313058,  0.87203453, -1.14880911,  0.28205825,  0.33091981]])"
      ]
     },
     "execution_count": 24,
     "metadata": {},
     "output_type": "execute_result"
    }
   ],
   "source": [
    "random_=np.random.randn(10,10)\n",
    "random_\n"
   ]
  },
  {
   "cell_type": "code",
   "execution_count": 25,
   "id": "bd2c3e74",
   "metadata": {},
   "outputs": [
    {
     "data": {
      "text/plain": [
       "1"
      ]
     },
     "execution_count": 25,
     "metadata": {},
     "output_type": "execute_result"
    }
   ],
   "source": [
    "# one item is giving max excluding\n",
    "random__=np.random.randint(2)\n",
    "random__"
   ]
  },
  {
   "cell_type": "code",
   "execution_count": 26,
   "id": "b16d2ef5",
   "metadata": {},
   "outputs": [
    {
     "data": {
      "text/plain": [
       "4"
      ]
     },
     "execution_count": 26,
     "metadata": {},
     "output_type": "execute_result"
    }
   ],
   "source": [
    "random__=np.random.randint(2,6)\n",
    "random__"
   ]
  },
  {
   "cell_type": "code",
   "execution_count": 27,
   "id": "d41d27ad",
   "metadata": {},
   "outputs": [
    {
     "data": {
      "text/plain": [
       "array([3, 3])"
      ]
     },
     "execution_count": 27,
     "metadata": {},
     "output_type": "execute_result"
    }
   ],
   "source": [
    "random__=np.random.randint(2,6,2)\n",
    "random__"
   ]
  },
  {
   "cell_type": "code",
   "execution_count": 28,
   "id": "2759ce44",
   "metadata": {},
   "outputs": [
    {
     "data": {
      "text/plain": [
       "array([[4, 5, 3, 2],\n",
       "       [3, 5, 4, 3]])"
      ]
     },
     "execution_count": 28,
     "metadata": {},
     "output_type": "execute_result"
    }
   ],
   "source": [
    "random___=np.random.randint(2,6,(2,4))\n",
    "random___"
   ]
  },
  {
   "cell_type": "code",
   "execution_count": 29,
   "id": "18f7c1f9",
   "metadata": {},
   "outputs": [
    {
     "data": {
      "text/plain": [
       "array([2, 5])"
      ]
     },
     "execution_count": 29,
     "metadata": {},
     "output_type": "execute_result"
    }
   ],
   "source": [
    "# if we want to stop randomaztion use seed in same cell with any number\n",
    "np.random.seed(2)\n",
    "random__=np.random.randint(2,6,2)\n",
    "random__"
   ]
  },
  {
   "cell_type": "code",
   "execution_count": 30,
   "id": "79bcd829",
   "metadata": {},
   "outputs": [
    {
     "data": {
      "text/plain": [
       "array([3, 2])"
      ]
     },
     "execution_count": 30,
     "metadata": {},
     "output_type": "execute_result"
    }
   ],
   "source": [
    "random__=np.random.randint(2,6,2)\n",
    "random__"
   ]
  },
  {
   "cell_type": "code",
   "execution_count": 31,
   "id": "e8916817",
   "metadata": {},
   "outputs": [
    {
     "data": {
      "text/plain": [
       "array([2, 5])"
      ]
     },
     "execution_count": 31,
     "metadata": {},
     "output_type": "execute_result"
    }
   ],
   "source": [
    "np.random.seed(2)\n",
    "random__=np.random.randint(2,6,2)\n",
    "random__"
   ]
  },
  {
   "cell_type": "code",
   "execution_count": 32,
   "id": "21533da5",
   "metadata": {},
   "outputs": [
    {
     "data": {
      "text/plain": [
       "array([4, 2])"
      ]
     },
     "execution_count": 32,
     "metadata": {},
     "output_type": "execute_result"
    }
   ],
   "source": [
    "np.random.seed(3)\n",
    "random__=np.random.randint(2,6,2)\n",
    "random__"
   ]
  },
  {
   "cell_type": "code",
   "execution_count": 33,
   "id": "1be2962b",
   "metadata": {},
   "outputs": [
    {
     "data": {
      "text/plain": [
       "array([4, 2])"
      ]
     },
     "execution_count": 33,
     "metadata": {},
     "output_type": "execute_result"
    }
   ],
   "source": [
    "np.random.seed(3)\n",
    "random__=np.random.randint(2,6,2)\n",
    "random__"
   ]
  },
  {
   "cell_type": "code",
   "execution_count": 34,
   "id": "70323305",
   "metadata": {},
   "outputs": [
    {
     "data": {
      "text/plain": [
       "array([1, 2, 3, 4, 5, 6, 7, 7])"
      ]
     },
     "execution_count": 34,
     "metadata": {},
     "output_type": "execute_result"
    }
   ],
   "source": [
    "l=[1,2,3,4,5,6,7,7]\n",
    "newarray=np.array(l)\n",
    "newarray"
   ]
  },
  {
   "cell_type": "code",
   "execution_count": 36,
   "id": "d8443674",
   "metadata": {},
   "outputs": [
    {
     "data": {
      "text/plain": [
       "array([[1, 2, 3, 4],\n",
       "       [5, 6, 7, 7]])"
      ]
     },
     "execution_count": 36,
     "metadata": {},
     "output_type": "execute_result"
    }
   ],
   "source": [
    "newarray.reshape(2,4)"
   ]
  },
  {
   "cell_type": "code",
   "execution_count": 37,
   "id": "36dd12cb",
   "metadata": {},
   "outputs": [
    {
     "data": {
      "text/plain": [
       "array([[1],\n",
       "       [2],\n",
       "       [3],\n",
       "       [4],\n",
       "       [5],\n",
       "       [6],\n",
       "       [7],\n",
       "       [7]])"
      ]
     },
     "execution_count": 37,
     "metadata": {},
     "output_type": "execute_result"
    }
   ],
   "source": [
    "# 1 column and fit rows accordingly\n",
    "reshaped=newarray.reshape(-1,1)\n",
    "reshaped"
   ]
  },
  {
   "cell_type": "code",
   "execution_count": 38,
   "id": "14cd967c",
   "metadata": {},
   "outputs": [
    {
     "data": {
      "text/plain": [
       "array([[1, 2, 3, 4, 5, 6, 7, 7]])"
      ]
     },
     "execution_count": 38,
     "metadata": {},
     "output_type": "execute_result"
    }
   ],
   "source": [
    "reshaped=newarray.reshape(1,-1)\n",
    "reshaped"
   ]
  },
  {
   "cell_type": "code",
   "execution_count": 39,
   "id": "f61691f6",
   "metadata": {},
   "outputs": [
    {
     "data": {
      "text/plain": [
       "array([1, 2, 3, 4, 5, 6, 7, 7])"
      ]
     },
     "execution_count": 39,
     "metadata": {},
     "output_type": "execute_result"
    }
   ],
   "source": [
    "#convert 2d to 1d\n",
    "reshaped=newarray.reshape(-1)\n",
    "reshaped"
   ]
  },
  {
   "cell_type": "code",
   "execution_count": 40,
   "id": "6ec944dc",
   "metadata": {},
   "outputs": [
    {
     "data": {
      "text/plain": [
       "0"
      ]
     },
     "execution_count": 40,
     "metadata": {},
     "output_type": "execute_result"
    }
   ],
   "source": [
    "reshaped.argmin()"
   ]
  },
  {
   "cell_type": "code",
   "execution_count": 41,
   "id": "3857dcaf",
   "metadata": {},
   "outputs": [
    {
     "data": {
      "text/plain": [
       "6"
      ]
     },
     "execution_count": 41,
     "metadata": {},
     "output_type": "execute_result"
    }
   ],
   "source": [
    "reshaped.argmax()"
   ]
  },
  {
   "cell_type": "code",
   "execution_count": 42,
   "id": "f57e40eb",
   "metadata": {},
   "outputs": [
    {
     "data": {
      "text/plain": [
       "7"
      ]
     },
     "execution_count": 42,
     "metadata": {},
     "output_type": "execute_result"
    }
   ],
   "source": [
    "reshaped.max()"
   ]
  },
  {
   "cell_type": "code",
   "execution_count": 43,
   "id": "1ad0950d",
   "metadata": {},
   "outputs": [
    {
     "data": {
      "text/plain": [
       "array([[1, 2, 3, 4],\n",
       "       [5, 6, 7, 7]])"
      ]
     },
     "execution_count": 43,
     "metadata": {},
     "output_type": "execute_result"
    }
   ],
   "source": [
    "l=[1,2,3,4,5,6,7,7]\n",
    "newarray=np.array(l)\n",
    "newarray=newarray.reshape(2,4)\n",
    "newarray"
   ]
  },
  {
   "cell_type": "code",
   "execution_count": 44,
   "id": "577abfad",
   "metadata": {},
   "outputs": [
    {
     "data": {
      "text/plain": [
       "6"
      ]
     },
     "execution_count": 44,
     "metadata": {},
     "output_type": "execute_result"
    }
   ],
   "source": [
    "newarray.argmax()"
   ]
  },
  {
   "cell_type": "code",
   "execution_count": null,
   "id": "dade16e6",
   "metadata": {},
   "outputs": [],
   "source": []
  }
 ],
 "metadata": {
  "kernelspec": {
   "display_name": "Python 3",
   "language": "python",
   "name": "python3"
  },
  "language_info": {
   "codemirror_mode": {
    "name": "ipython",
    "version": 3
   },
   "file_extension": ".py",
   "mimetype": "text/x-python",
   "name": "python",
   "nbconvert_exporter": "python",
   "pygments_lexer": "ipython3",
   "version": "3.8.8"
  }
 },
 "nbformat": 4,
 "nbformat_minor": 5
}
