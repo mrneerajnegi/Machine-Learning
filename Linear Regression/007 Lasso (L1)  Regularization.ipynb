{
 "cells": [
  {
   "cell_type": "code",
   "execution_count": 1,
   "id": "a749c1fc",
   "metadata": {},
   "outputs": [],
   "source": [
    "import pandas as pd\n",
    "import numpy as np\n",
    "from sklearn.preprocessing import StandardScaler,PolynomialFeatures\n",
    "from sklearn.model_selection import train_test_split\n",
    "from sklearn.metrics import mean_absolute_error,mean_squared_error\n",
    "from sklearn.linear_model import LassoCV"
   ]
  },
  {
   "cell_type": "code",
   "execution_count": 2,
   "id": "7fc3e1c1",
   "metadata": {},
   "outputs": [
    {
     "data": {
      "text/html": [
       "<div>\n",
       "<style scoped>\n",
       "    .dataframe tbody tr th:only-of-type {\n",
       "        vertical-align: middle;\n",
       "    }\n",
       "\n",
       "    .dataframe tbody tr th {\n",
       "        vertical-align: top;\n",
       "    }\n",
       "\n",
       "    .dataframe thead th {\n",
       "        text-align: right;\n",
       "    }\n",
       "</style>\n",
       "<table border=\"1\" class=\"dataframe\">\n",
       "  <thead>\n",
       "    <tr style=\"text-align: right;\">\n",
       "      <th></th>\n",
       "      <th>TV</th>\n",
       "      <th>radio</th>\n",
       "      <th>newspaper</th>\n",
       "      <th>sales</th>\n",
       "    </tr>\n",
       "  </thead>\n",
       "  <tbody>\n",
       "    <tr>\n",
       "      <th>0</th>\n",
       "      <td>230.1</td>\n",
       "      <td>37.8</td>\n",
       "      <td>69.2</td>\n",
       "      <td>22.1</td>\n",
       "    </tr>\n",
       "    <tr>\n",
       "      <th>1</th>\n",
       "      <td>44.5</td>\n",
       "      <td>39.3</td>\n",
       "      <td>45.1</td>\n",
       "      <td>10.4</td>\n",
       "    </tr>\n",
       "    <tr>\n",
       "      <th>2</th>\n",
       "      <td>17.2</td>\n",
       "      <td>45.9</td>\n",
       "      <td>69.3</td>\n",
       "      <td>9.3</td>\n",
       "    </tr>\n",
       "    <tr>\n",
       "      <th>3</th>\n",
       "      <td>151.5</td>\n",
       "      <td>41.3</td>\n",
       "      <td>58.5</td>\n",
       "      <td>18.5</td>\n",
       "    </tr>\n",
       "    <tr>\n",
       "      <th>4</th>\n",
       "      <td>180.8</td>\n",
       "      <td>10.8</td>\n",
       "      <td>58.4</td>\n",
       "      <td>12.9</td>\n",
       "    </tr>\n",
       "  </tbody>\n",
       "</table>\n",
       "</div>"
      ],
      "text/plain": [
       "      TV  radio  newspaper  sales\n",
       "0  230.1   37.8       69.2   22.1\n",
       "1   44.5   39.3       45.1   10.4\n",
       "2   17.2   45.9       69.3    9.3\n",
       "3  151.5   41.3       58.5   18.5\n",
       "4  180.8   10.8       58.4   12.9"
      ]
     },
     "execution_count": 2,
     "metadata": {},
     "output_type": "execute_result"
    }
   ],
   "source": [
    "df=pd.read_csv(\"./Advertising.csv\")\n",
    "X=df.drop(\"sales\",axis=1)\n",
    "Y=df[\"sales\"]\n",
    "df.head()\n",
    "\n",
    "\n"
   ]
  },
  {
   "cell_type": "code",
   "execution_count": 3,
   "id": "53134797",
   "metadata": {},
   "outputs": [
    {
     "data": {
      "text/plain": [
       "array([[1.00000000e+00, 2.30100000e+02, 3.78000000e+01, ...,\n",
       "        9.88757280e+04, 1.81010592e+05, 3.31373888e+05],\n",
       "       [1.00000000e+00, 4.45000000e+01, 3.93000000e+01, ...,\n",
       "        6.96564990e+04, 7.99365930e+04, 9.17338510e+04],\n",
       "       [1.00000000e+00, 1.72000000e+01, 4.59000000e+01, ...,\n",
       "        1.46001933e+05, 2.20434291e+05, 3.32812557e+05],\n",
       "       ...,\n",
       "       [1.00000000e+00, 1.77000000e+02, 9.30000000e+00, ...,\n",
       "        5.53536000e+02, 3.80928000e+02, 2.62144000e+02],\n",
       "       [1.00000000e+00, 2.83600000e+02, 4.20000000e+01, ...,\n",
       "        1.16776800e+05, 1.84062480e+05, 2.90117528e+05],\n",
       "       [1.00000000e+00, 2.32100000e+02, 8.60000000e+00, ...,\n",
       "        6.43452000e+02, 6.50934000e+02, 6.58503000e+02]])"
      ]
     },
     "execution_count": 3,
     "metadata": {},
     "output_type": "execute_result"
    }
   ],
   "source": [
    "poly_convertor=PolynomialFeatures(degree=3,)\n",
    "poly_features=poly_convertor.fit_transform(X)\n",
    "poly_features"
   ]
  },
  {
   "cell_type": "code",
   "execution_count": 4,
   "id": "ba464d8d",
   "metadata": {},
   "outputs": [],
   "source": [
    "X_train, X_test, y_train, y_test = train_test_split(poly_features, Y, test_size=0.3, random_state=42)\n",
    "standard_coonvertor=StandardScaler()\n",
    "standard_coonvertor.fit(X_train)\n",
    "X_train=standard_coonvertor.transform(X_train)\n",
    "X_test=standard_coonvertor.transform(X_test)"
   ]
  },
  {
   "cell_type": "code",
   "execution_count": 5,
   "id": "b7800580",
   "metadata": {},
   "outputs": [
    {
     "name": "stderr",
     "output_type": "stream",
     "text": [
      "/Users/user/opt/anaconda3/lib/python3.8/site-packages/sklearn/linear_model/_coordinate_descent.py:530: ConvergenceWarning: Objective did not converge. You might want to increase the number of iterations. Duality gap: 0.7572096436807811, tolerance: 0.3673738857142857\n",
      "  model = cd_fast.enet_coordinate_descent(\n"
     ]
    },
    {
     "data": {
      "text/plain": [
       "LassoCV()"
      ]
     },
     "execution_count": 5,
     "metadata": {},
     "output_type": "execute_result"
    }
   ],
   "source": [
    "lasso_model=LassoCV(eps=0.001,n_alphas=100)\n",
    "lasso_model.fit(X_train,y_train)"
   ]
  },
  {
   "cell_type": "code",
   "execution_count": 6,
   "id": "c0f3ba7b",
   "metadata": {},
   "outputs": [
    {
     "data": {
      "text/plain": [
       "LassoCV(eps=0.1)"
      ]
     },
     "execution_count": 6,
     "metadata": {},
     "output_type": "execute_result"
    }
   ],
   "source": [
    "lasso_model=LassoCV(eps=0.1,n_alphas=100)\n",
    "lasso_model.fit(X_train,y_train)"
   ]
  },
  {
   "cell_type": "code",
   "execution_count": 7,
   "id": "9df0de5a",
   "metadata": {},
   "outputs": [
    {
     "data": {
      "text/plain": [
       "array([0.        , 0.97675148, 0.        , 0.        , 0.        ,\n",
       "       3.8148913 , 0.        , 0.        , 0.        , 0.        ,\n",
       "       0.        , 0.        , 0.        , 0.        , 0.        ,\n",
       "       0.        , 0.        , 0.        , 0.        , 0.        ])"
      ]
     },
     "execution_count": 7,
     "metadata": {},
     "output_type": "execute_result"
    }
   ],
   "source": [
    "lasso_model.coef_"
   ]
  },
  {
   "cell_type": "code",
   "execution_count": 8,
   "id": "14cb9128",
   "metadata": {},
   "outputs": [
    {
     "data": {
      "text/plain": [
       "0.4924531806474871"
      ]
     },
     "execution_count": 8,
     "metadata": {},
     "output_type": "execute_result"
    }
   ],
   "source": [
    "lasso_model.alpha_"
   ]
  },
  {
   "cell_type": "code",
   "execution_count": 9,
   "id": "48915c2c",
   "metadata": {},
   "outputs": [],
   "source": [
    "lasso_prediction=lasso_model.predict(X_test)"
   ]
  },
  {
   "cell_type": "code",
   "execution_count": 10,
   "id": "698308d2",
   "metadata": {},
   "outputs": [
    {
     "data": {
      "text/plain": [
       "0.6811456342837983"
      ]
     },
     "execution_count": 10,
     "metadata": {},
     "output_type": "execute_result"
    }
   ],
   "source": [
    "MAE=mean_absolute_error(y_test,lasso_prediction)\n",
    "MAE"
   ]
  },
  {
   "cell_type": "code",
   "execution_count": 11,
   "id": "e263a8a6",
   "metadata": {},
   "outputs": [
    {
     "data": {
      "text/plain": [
       "1.0349127365478727"
      ]
     },
     "execution_count": 11,
     "metadata": {},
     "output_type": "execute_result"
    }
   ],
   "source": [
    "MSRE=np.sqrt(mean_squared_error(y_test,lasso_prediction))\n",
    "MSRE"
   ]
  },
  {
   "cell_type": "code",
   "execution_count": 12,
   "id": "dd6d1b07",
   "metadata": {},
   "outputs": [],
   "source": [
    "#more the alpha is more the number of coef will become zero"
   ]
  },
  {
   "cell_type": "code",
   "execution_count": 13,
   "id": "a4a802e8",
   "metadata": {},
   "outputs": [
    {
     "data": {
      "text/plain": [
       "LassoCV(max_iter=10000000)"
      ]
     },
     "execution_count": 13,
     "metadata": {},
     "output_type": "execute_result"
    }
   ],
   "source": [
    "lasso_model=LassoCV(eps=0.001,n_alphas=100,max_iter=10000000)\n",
    "lasso_model.fit(X_train,y_train)"
   ]
  },
  {
   "cell_type": "code",
   "execution_count": 14,
   "id": "4d740d77",
   "metadata": {},
   "outputs": [
    {
     "data": {
      "text/plain": [
       "array([ 0.        ,  5.15048089,  0.4274257 ,  0.29684446, -4.53337994,\n",
       "        3.38937185, -0.4288993 ,  0.        ,  0.        ,  0.        ,\n",
       "        1.17891049, -0.        ,  0.        ,  0.16706037, -0.        ,\n",
       "        0.        ,  0.        ,  0.11083672,  0.        ,  0.06155549])"
      ]
     },
     "execution_count": 14,
     "metadata": {},
     "output_type": "execute_result"
    }
   ],
   "source": [
    "lasso_model.coef_"
   ]
  },
  {
   "cell_type": "code",
   "execution_count": 15,
   "id": "6b18d089",
   "metadata": {},
   "outputs": [],
   "source": [
    "lasso_prediction=lasso_model.predict(X_test)"
   ]
  },
  {
   "cell_type": "code",
   "execution_count": 16,
   "id": "6ce95ea3",
   "metadata": {},
   "outputs": [
    {
     "data": {
      "text/plain": [
       "0.5123045552899829"
      ]
     },
     "execution_count": 16,
     "metadata": {},
     "output_type": "execute_result"
    }
   ],
   "source": [
    "MAE=mean_absolute_error(y_test,lasso_prediction)\n",
    "MAE"
   ]
  },
  {
   "cell_type": "code",
   "execution_count": 17,
   "id": "0a32522d",
   "metadata": {},
   "outputs": [
    {
     "data": {
      "text/plain": [
       "0.6308043049172882"
      ]
     },
     "execution_count": 17,
     "metadata": {},
     "output_type": "execute_result"
    }
   ],
   "source": [
    "MSRE=np.sqrt(mean_squared_error(y_test,lasso_prediction))\n",
    "MSRE"
   ]
  },
  {
   "cell_type": "code",
   "execution_count": 21,
   "id": "e0a304c4",
   "metadata": {},
   "outputs": [
    {
     "data": {
      "text/plain": [
       "array([4.92453181, 4.59263484, 4.28310663, 3.99443958, 3.72522772,\n",
       "       3.47415984, 3.24001309, 3.02164705, 2.81799815, 2.62807451,\n",
       "       2.45095108, 2.28576518, 2.13171226, 1.98804199, 1.85405461,\n",
       "       1.72909754, 1.61256215, 1.50388086, 1.40252432, 1.30799888,\n",
       "       1.21984413, 1.13763072, 1.06095822, 0.98945318, 0.92276735,\n",
       "       0.86057592, 0.80257598, 0.74848505, 0.69803966, 0.65099412,\n",
       "       0.6071193 , 0.56620149, 0.5280414 , 0.49245318, 0.45926348,\n",
       "       0.42831066, 0.39944396, 0.37252277, 0.34741598, 0.32400131,\n",
       "       0.30216471, 0.28179982, 0.26280745, 0.24509511, 0.22857652,\n",
       "       0.21317123, 0.1988042 , 0.18540546, 0.17290975, 0.16125622,\n",
       "       0.15038809, 0.14025243, 0.13079989, 0.12198441, 0.11376307,\n",
       "       0.10609582, 0.09894532, 0.09227673, 0.08605759, 0.0802576 ,\n",
       "       0.0748485 , 0.06980397, 0.06509941, 0.06071193, 0.05662015,\n",
       "       0.05280414, 0.04924532, 0.04592635, 0.04283107, 0.0399444 ,\n",
       "       0.03725228, 0.0347416 , 0.03240013, 0.03021647, 0.02817998,\n",
       "       0.02628075, 0.02450951, 0.02285765, 0.02131712, 0.01988042,\n",
       "       0.01854055, 0.01729098, 0.01612562, 0.01503881, 0.01402524,\n",
       "       0.01307999, 0.01219844, 0.01137631, 0.01060958, 0.00989453,\n",
       "       0.00922767, 0.00860576, 0.00802576, 0.00748485, 0.0069804 ,\n",
       "       0.00650994, 0.00607119, 0.00566201, 0.00528041, 0.00492453])"
      ]
     },
     "execution_count": 21,
     "metadata": {},
     "output_type": "execute_result"
    }
   ],
   "source": [
    "lasso_model.alphas_"
   ]
  },
  {
   "cell_type": "code",
   "execution_count": null,
   "id": "584e621a",
   "metadata": {},
   "outputs": [],
   "source": []
  }
 ],
 "metadata": {
  "kernelspec": {
   "display_name": "Python 3",
   "language": "python",
   "name": "python3"
  },
  "language_info": {
   "codemirror_mode": {
    "name": "ipython",
    "version": 3
   },
   "file_extension": ".py",
   "mimetype": "text/x-python",
   "name": "python",
   "nbconvert_exporter": "python",
   "pygments_lexer": "ipython3",
   "version": "3.8.8"
  }
 },
 "nbformat": 4,
 "nbformat_minor": 5
}
