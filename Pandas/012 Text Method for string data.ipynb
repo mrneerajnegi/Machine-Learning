{
 "cells": [
  {
   "cell_type": "code",
   "execution_count": 1,
   "id": "7ec2e522",
   "metadata": {},
   "outputs": [],
   "source": [
    "import pandas as pd"
   ]
  },
  {
   "cell_type": "code",
   "execution_count": 4,
   "id": "991f771a",
   "metadata": {},
   "outputs": [],
   "source": [
    "names=pd.Series([\"Neeraj\",\" Suraj\",\"Ram#\",\"25\",\"TATA \"])"
   ]
  },
  {
   "cell_type": "code",
   "execution_count": 5,
   "id": "d135b0e7",
   "metadata": {},
   "outputs": [
    {
     "data": {
      "text/plain": [
       "0    neeraj\n",
       "1     suraj\n",
       "2      ram#\n",
       "3        25\n",
       "4     tata \n",
       "dtype: object"
      ]
     },
     "execution_count": 5,
     "metadata": {},
     "output_type": "execute_result"
    }
   ],
   "source": [
    "names.str.lower()"
   ]
  },
  {
   "cell_type": "code",
   "execution_count": 6,
   "id": "fa51fa3f",
   "metadata": {},
   "outputs": [
    {
     "data": {
      "text/plain": [
       "0    False\n",
       "1    False\n",
       "2    False\n",
       "3     True\n",
       "4    False\n",
       "dtype: bool"
      ]
     },
     "execution_count": 6,
     "metadata": {},
     "output_type": "execute_result"
    }
   ],
   "source": [
    "names.str.isdigit()"
   ]
  },
  {
   "cell_type": "code",
   "execution_count": 8,
   "id": "049c1933",
   "metadata": {},
   "outputs": [
    {
     "data": {
      "text/plain": [
       "0    neeraj\n",
       "1     suraj\n",
       "2       ram\n",
       "3        25\n",
       "4     tata \n",
       "dtype: object"
      ]
     },
     "execution_count": 8,
     "metadata": {},
     "output_type": "execute_result"
    }
   ],
   "source": [
    "names.str.lower().str.replace(\"#\",\"\")"
   ]
  },
  {
   "cell_type": "code",
   "execution_count": 15,
   "id": "448e844f",
   "metadata": {},
   "outputs": [
    {
     "data": {
      "text/html": [
       "<div>\n",
       "<style scoped>\n",
       "    .dataframe tbody tr th:only-of-type {\n",
       "        vertical-align: middle;\n",
       "    }\n",
       "\n",
       "    .dataframe tbody tr th {\n",
       "        vertical-align: top;\n",
       "    }\n",
       "\n",
       "    .dataframe thead th {\n",
       "        text-align: right;\n",
       "    }\n",
       "</style>\n",
       "<table border=\"1\" class=\"dataframe\">\n",
       "  <thead>\n",
       "    <tr style=\"text-align: right;\">\n",
       "      <th></th>\n",
       "      <th>Names</th>\n",
       "    </tr>\n",
       "  </thead>\n",
       "  <tbody>\n",
       "    <tr>\n",
       "      <th>0</th>\n",
       "      <td>Neeraj</td>\n",
       "    </tr>\n",
       "    <tr>\n",
       "      <th>1</th>\n",
       "      <td>Rahul</td>\n",
       "    </tr>\n",
       "    <tr>\n",
       "      <th>2</th>\n",
       "      <td>Tata</td>\n",
       "    </tr>\n",
       "    <tr>\n",
       "      <th>3</th>\n",
       "      <td>45</td>\n",
       "    </tr>\n",
       "  </tbody>\n",
       "</table>\n",
       "</div>"
      ],
      "text/plain": [
       "    Names\n",
       "0  Neeraj\n",
       "1   Rahul\n",
       "2    Tata\n",
       "3      45"
      ]
     },
     "execution_count": 15,
     "metadata": {},
     "output_type": "execute_result"
    }
   ],
   "source": [
    "df2=pd.DataFrame([\"Neeraj\",\"Rahul\",\"Tata\",\"45\"],columns=[\"Names\"])\n",
    "df2"
   ]
  },
  {
   "cell_type": "code",
   "execution_count": 18,
   "id": "cab9234d",
   "metadata": {},
   "outputs": [
    {
     "data": {
      "text/plain": [
       "0    neeraj\n",
       "1     rahul\n",
       "2      tata\n",
       "3        45\n",
       "Name: Names, dtype: object"
      ]
     },
     "execution_count": 18,
     "metadata": {},
     "output_type": "execute_result"
    }
   ],
   "source": [
    "df2[\"Names\"].str.lower()"
   ]
  },
  {
   "cell_type": "code",
   "execution_count": 20,
   "id": "ad17e9ce",
   "metadata": {},
   "outputs": [
    {
     "data": {
      "text/plain": [
       "0    A,B,C\n",
       "1      D,E\n",
       "dtype: object"
      ]
     },
     "execution_count": 20,
     "metadata": {},
     "output_type": "execute_result"
    }
   ],
   "source": [
    "name=[\"A,B,C\",\"D,E\"]\n",
    "new_series=pd.Series(name)\n",
    "new_series"
   ]
  },
  {
   "cell_type": "code",
   "execution_count": 25,
   "id": "b9dfccdd",
   "metadata": {},
   "outputs": [
    {
     "data": {
      "text/plain": [
       "0    A\n",
       "1    D\n",
       "dtype: object"
      ]
     },
     "execution_count": 25,
     "metadata": {},
     "output_type": "execute_result"
    }
   ],
   "source": [
    "new_series.str.split(\",\").str[0]"
   ]
  },
  {
   "cell_type": "code",
   "execution_count": 27,
   "id": "a9846271",
   "metadata": {},
   "outputs": [
    {
     "data": {
      "text/html": [
       "<div>\n",
       "<style scoped>\n",
       "    .dataframe tbody tr th:only-of-type {\n",
       "        vertical-align: middle;\n",
       "    }\n",
       "\n",
       "    .dataframe tbody tr th {\n",
       "        vertical-align: top;\n",
       "    }\n",
       "\n",
       "    .dataframe thead th {\n",
       "        text-align: right;\n",
       "    }\n",
       "</style>\n",
       "<table border=\"1\" class=\"dataframe\">\n",
       "  <thead>\n",
       "    <tr style=\"text-align: right;\">\n",
       "      <th></th>\n",
       "      <th>0</th>\n",
       "      <th>1</th>\n",
       "      <th>2</th>\n",
       "    </tr>\n",
       "  </thead>\n",
       "  <tbody>\n",
       "    <tr>\n",
       "      <th>0</th>\n",
       "      <td>A</td>\n",
       "      <td>B</td>\n",
       "      <td>C</td>\n",
       "    </tr>\n",
       "    <tr>\n",
       "      <th>1</th>\n",
       "      <td>D</td>\n",
       "      <td>E</td>\n",
       "      <td>None</td>\n",
       "    </tr>\n",
       "  </tbody>\n",
       "</table>\n",
       "</div>"
      ],
      "text/plain": [
       "   0  1     2\n",
       "0  A  B     C\n",
       "1  D  E  None"
      ]
     },
     "execution_count": 27,
     "metadata": {},
     "output_type": "execute_result"
    }
   ],
   "source": [
    "#Expand the split strings into separate columns.\n",
    "new_series.str.split(\",\",expand=True)"
   ]
  },
  {
   "cell_type": "code",
   "execution_count": 28,
   "id": "636a535b",
   "metadata": {},
   "outputs": [
    {
     "data": {
      "text/plain": [
       "0    Neeraj\n",
       "1     Suraj\n",
       "2      Ram#\n",
       "3        25\n",
       "4     TATA \n",
       "dtype: object"
      ]
     },
     "execution_count": 28,
     "metadata": {},
     "output_type": "execute_result"
    }
   ],
   "source": [
    "names"
   ]
  },
  {
   "cell_type": "code",
   "execution_count": 29,
   "id": "3c992ddd",
   "metadata": {},
   "outputs": [],
   "source": [
    "def cleanp(name):\n",
    "    name=name.replace(\"#\",\"\")\n",
    "    name=name.strip()\n",
    "    name=name.capitalize()\n",
    "    return name"
   ]
  },
  {
   "cell_type": "code",
   "execution_count": 31,
   "id": "1d976959",
   "metadata": {},
   "outputs": [
    {
     "data": {
      "text/plain": [
       "0    Neeraj\n",
       "1     Suraj\n",
       "2       Ram\n",
       "3        25\n",
       "4      Tata\n",
       "dtype: object"
      ]
     },
     "execution_count": 31,
     "metadata": {},
     "output_type": "execute_result"
    }
   ],
   "source": [
    "names.apply(cleanp)"
   ]
  },
  {
   "cell_type": "code",
   "execution_count": 34,
   "id": "3c869c29",
   "metadata": {},
   "outputs": [
    {
     "data": {
      "text/plain": [
       "0    Neeraj\n",
       "1     Suraj\n",
       "2       Ram\n",
       "3        25\n",
       "4      Tata\n",
       "dtype: object"
      ]
     },
     "execution_count": 34,
     "metadata": {},
     "output_type": "execute_result"
    }
   ],
   "source": [
    "names.str.replace(\"#\",\"\").str.strip().str.capitalize()"
   ]
  },
  {
   "cell_type": "markdown",
   "id": "c099f239",
   "metadata": {},
   "source": [
    "# **apply has good performance as compare to str"
   ]
  },
  {
   "cell_type": "code",
   "execution_count": 38,
   "id": "fef3001c",
   "metadata": {},
   "outputs": [],
   "source": [
    "my=\"  lknlfnaslnfa&nafa-= \""
   ]
  },
  {
   "cell_type": "code",
   "execution_count": 40,
   "id": "3ad38caa",
   "metadata": {},
   "outputs": [
    {
     "data": {
      "text/plain": [
       "'lknlfnaslnfa&nafa-= '"
      ]
     },
     "execution_count": 40,
     "metadata": {},
     "output_type": "execute_result"
    }
   ],
   "source": [
    "my.lstrip()"
   ]
  },
  {
   "cell_type": "code",
   "execution_count": 41,
   "id": "2dfb981b",
   "metadata": {},
   "outputs": [
    {
     "data": {
      "text/plain": [
       "'  lknlfnaslnfa&nafa-='"
      ]
     },
     "execution_count": 41,
     "metadata": {},
     "output_type": "execute_result"
    }
   ],
   "source": [
    "my.rstrip()"
   ]
  },
  {
   "cell_type": "code",
   "execution_count": 42,
   "id": "913d37ea",
   "metadata": {},
   "outputs": [
    {
     "data": {
      "text/plain": [
       "'lknlfnaslnfa&nafa-='"
      ]
     },
     "execution_count": 42,
     "metadata": {},
     "output_type": "execute_result"
    }
   ],
   "source": [
    "my.strip()"
   ]
  },
  {
   "cell_type": "code",
   "execution_count": 43,
   "id": "f40abc3f",
   "metadata": {},
   "outputs": [
    {
     "data": {
      "text/plain": [
       "'  lknlfnaslnfa&nafa-= '"
      ]
     },
     "execution_count": 43,
     "metadata": {},
     "output_type": "execute_result"
    }
   ],
   "source": [
    "my.strip(\"-&=\")"
   ]
  },
  {
   "cell_type": "code",
   "execution_count": null,
   "id": "f3f5f4fc",
   "metadata": {},
   "outputs": [],
   "source": []
  }
 ],
 "metadata": {
  "kernelspec": {
   "display_name": "Python 3",
   "language": "python",
   "name": "python3"
  },
  "language_info": {
   "codemirror_mode": {
    "name": "ipython",
    "version": 3
   },
   "file_extension": ".py",
   "mimetype": "text/x-python",
   "name": "python",
   "nbconvert_exporter": "python",
   "pygments_lexer": "ipython3",
   "version": "3.8.8"
  }
 },
 "nbformat": 4,
 "nbformat_minor": 5
}
