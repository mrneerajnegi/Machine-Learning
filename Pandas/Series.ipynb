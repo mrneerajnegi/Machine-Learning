{
 "cells": [
  {
   "cell_type": "raw",
   "id": "f16b564a",
   "metadata": {},
   "source": [
    "# Series is a data structure in pandas that holds an array info along with a named index\n",
    "The named index differentiates this from a simple  numpy array\n",
    "Formal  defination : 1 d array with axis lables"
   ]
  },
  {
   "cell_type": "code",
   "execution_count": 37,
   "id": "239af4ab",
   "metadata": {},
   "outputs": [],
   "source": [
    "import pandas as pd\n",
    "import numpy as np"
   ]
  },
  {
   "cell_type": "code",
   "execution_count": 4,
   "id": "6d0e833e",
   "metadata": {},
   "outputs": [],
   "source": [
    "# help(pd.Series)"
   ]
  },
  {
   "cell_type": "code",
   "execution_count": 5,
   "id": "66a79de1",
   "metadata": {},
   "outputs": [],
   "source": [
    "data=[1992,1994,1997]\n",
    "series=pd.Series(data=data)"
   ]
  },
  {
   "cell_type": "code",
   "execution_count": 6,
   "id": "5725b65c",
   "metadata": {},
   "outputs": [
    {
     "data": {
      "text/plain": [
       "0    1992\n",
       "1    1994\n",
       "2    1997\n",
       "dtype: int64"
      ]
     },
     "execution_count": 6,
     "metadata": {},
     "output_type": "execute_result"
    }
   ],
   "source": [
    "series"
   ]
  },
  {
   "cell_type": "code",
   "execution_count": 7,
   "id": "67183053",
   "metadata": {},
   "outputs": [],
   "source": [
    "state=[\"Uk\",\"CHD\",\"PKL\"]"
   ]
  },
  {
   "cell_type": "code",
   "execution_count": 9,
   "id": "3be6494f",
   "metadata": {},
   "outputs": [],
   "source": [
    "series1=pd.Series(data=data,index=state)"
   ]
  },
  {
   "cell_type": "code",
   "execution_count": 10,
   "id": "3bc783b0",
   "metadata": {},
   "outputs": [
    {
     "data": {
      "text/plain": [
       "Uk     1992\n",
       "CHD    1994\n",
       "PKL    1997\n",
       "dtype: int64"
      ]
     },
     "execution_count": 10,
     "metadata": {},
     "output_type": "execute_result"
    }
   ],
   "source": [
    "series1"
   ]
  },
  {
   "cell_type": "code",
   "execution_count": 11,
   "id": "c029307b",
   "metadata": {},
   "outputs": [
    {
     "data": {
      "text/plain": [
       "1997"
      ]
     },
     "execution_count": 11,
     "metadata": {},
     "output_type": "execute_result"
    }
   ],
   "source": [
    "series1[\"PKL\"]"
   ]
  },
  {
   "cell_type": "code",
   "execution_count": 12,
   "id": "15db6746",
   "metadata": {},
   "outputs": [
    {
     "data": {
      "text/plain": [
       "1994"
      ]
     },
     "execution_count": 12,
     "metadata": {},
     "output_type": "execute_result"
    }
   ],
   "source": [
    "series1[1]"
   ]
  },
  {
   "cell_type": "code",
   "execution_count": 14,
   "id": "e6ee84b3",
   "metadata": {},
   "outputs": [
    {
     "data": {
      "text/plain": [
       "Uk     1992\n",
       "CHD    1994\n",
       "PKL    1997\n",
       "dtype: int64"
      ]
     },
     "execution_count": 14,
     "metadata": {},
     "output_type": "execute_result"
    }
   ],
   "source": [
    "series2=pd.Series(data,state)\n",
    "series2"
   ]
  },
  {
   "cell_type": "code",
   "execution_count": 18,
   "id": "3b423ea8",
   "metadata": {},
   "outputs": [
    {
     "data": {
      "text/plain": [
       "name                      neeraj\n",
       "age                           26\n",
       "occupatioj    software developer\n",
       "dtype: object"
      ]
     },
     "execution_count": 18,
     "metadata": {},
     "output_type": "execute_result"
    }
   ],
   "source": [
    "obj1={\"name\":\"neeraj\",\"age\":26,\"occupatioj\":\"software developer\"}\n",
    "series3=pd.Series(obj1)\n",
    "series3\n"
   ]
  },
  {
   "cell_type": "code",
   "execution_count": 21,
   "id": "9bfebb22",
   "metadata": {},
   "outputs": [],
   "source": [
    "q1={\"Japan\":80,\"China\":450,\"India\":200,\"USA\":250}\n",
    "q2={\"Brazil\":100,\"China\":500,\"India\":210,\"USA\":260}"
   ]
  },
  {
   "cell_type": "code",
   "execution_count": 43,
   "id": "a191f10c",
   "metadata": {},
   "outputs": [
    {
     "data": {
      "text/plain": [
       "Japan     80\n",
       "China    450\n",
       "India    200\n",
       "USA      250\n",
       "dtype: int64"
      ]
     },
     "execution_count": 43,
     "metadata": {},
     "output_type": "execute_result"
    }
   ],
   "source": [
    "series3=pd.Series(q1)\n",
    "series4=pd.Series(q2)\n",
    "series3\n"
   ]
  },
  {
   "cell_type": "code",
   "execution_count": 27,
   "id": "d2fe3499",
   "metadata": {},
   "outputs": [
    {
     "data": {
      "text/plain": [
       "Brazil    100\n",
       "China     500\n",
       "India     210\n",
       "USA       260\n",
       "dtype: int64"
      ]
     },
     "execution_count": 27,
     "metadata": {},
     "output_type": "execute_result"
    }
   ],
   "source": [
    "series4"
   ]
  },
  {
   "cell_type": "code",
   "execution_count": 28,
   "id": "d4da8bce",
   "metadata": {},
   "outputs": [
    {
     "data": {
      "text/plain": [
       "Index(['Brazil', 'China', 'India', 'USA'], dtype='object')"
      ]
     },
     "execution_count": 28,
     "metadata": {},
     "output_type": "execute_result"
    }
   ],
   "source": [
    "series4.keys()"
   ]
  },
  {
   "cell_type": "code",
   "execution_count": 35,
   "id": "0573cd32",
   "metadata": {},
   "outputs": [
    {
     "data": {
      "text/plain": [
       "[1, 2, 4, 1, 2, 4]"
      ]
     },
     "execution_count": 35,
     "metadata": {},
     "output_type": "execute_result"
    }
   ],
   "source": [
    "[1,2,4]*2"
   ]
  },
  {
   "cell_type": "code",
   "execution_count": 38,
   "id": "f925428f",
   "metadata": {},
   "outputs": [
    {
     "data": {
      "text/plain": [
       "array([2, 4, 8])"
      ]
     },
     "execution_count": 38,
     "metadata": {},
     "output_type": "execute_result"
    }
   ],
   "source": [
    "np.array([1,2,4])*2"
   ]
  },
  {
   "cell_type": "code",
   "execution_count": 42,
   "id": "6f4c4549",
   "metadata": {},
   "outputs": [
    {
     "data": {
      "text/plain": [
       "Brazil     400\n",
       "China     2000\n",
       "India      840\n",
       "USA       1040\n",
       "dtype: int64"
      ]
     },
     "execution_count": 42,
     "metadata": {},
     "output_type": "execute_result"
    }
   ],
   "source": [
    "series4*2"
   ]
  },
  {
   "cell_type": "code",
   "execution_count": 44,
   "id": "e8eb18cd",
   "metadata": {},
   "outputs": [
    {
     "data": {
      "text/plain": [
       "Brazil     50.0\n",
       "China     250.0\n",
       "India     105.0\n",
       "USA       130.0\n",
       "dtype: float64"
      ]
     },
     "execution_count": 44,
     "metadata": {},
     "output_type": "execute_result"
    }
   ],
   "source": [
    "series4/2"
   ]
  },
  {
   "cell_type": "code",
   "execution_count": 45,
   "id": "ce64f9a6",
   "metadata": {},
   "outputs": [
    {
     "data": {
      "text/plain": [
       "Brazil      NaN\n",
       "China     950.0\n",
       "India     410.0\n",
       "Japan       NaN\n",
       "USA       510.0\n",
       "dtype: float64"
      ]
     },
     "execution_count": 45,
     "metadata": {},
     "output_type": "execute_result"
    }
   ],
   "source": [
    "series4+series3"
   ]
  },
  {
   "cell_type": "code",
   "execution_count": 51,
   "id": "9d66e762",
   "metadata": {},
   "outputs": [
    {
     "data": {
      "text/plain": [
       "Brazil    100.0\n",
       "China     950.0\n",
       "India     410.0\n",
       "Japan      80.0\n",
       "USA       510.0\n",
       "dtype: float64"
      ]
     },
     "execution_count": 51,
     "metadata": {},
     "output_type": "execute_result"
    }
   ],
   "source": [
    "# brazil and japan is nan because they are not common, we can resolve this issue\n",
    "newseries=series3.add(series4,fill_value=0)\n",
    "newseries"
   ]
  },
  {
   "cell_type": "code",
   "execution_count": 48,
   "id": "1865a7be",
   "metadata": {},
   "outputs": [
    {
     "data": {
      "text/plain": [
       "dtype('int64')"
      ]
     },
     "execution_count": 48,
     "metadata": {},
     "output_type": "execute_result"
    }
   ],
   "source": [
    "series3.dtype"
   ]
  },
  {
   "cell_type": "code",
   "execution_count": 52,
   "id": "0ef31006",
   "metadata": {},
   "outputs": [
    {
     "data": {
      "text/plain": [
       "dtype('float64')"
      ]
     },
     "execution_count": 52,
     "metadata": {},
     "output_type": "execute_result"
    }
   ],
   "source": [
    "newseries.dtype"
   ]
  },
  {
   "cell_type": "code",
   "execution_count": 53,
   "id": "37ad7038",
   "metadata": {},
   "outputs": [
    {
     "data": {
      "text/plain": [
       "pandas.core.series.Series"
      ]
     },
     "execution_count": 53,
     "metadata": {},
     "output_type": "execute_result"
    }
   ],
   "source": [
    "type(newseries)"
   ]
  },
  {
   "cell_type": "code",
   "execution_count": null,
   "id": "6bae2812",
   "metadata": {},
   "outputs": [],
   "source": []
  }
 ],
 "metadata": {
  "kernelspec": {
   "display_name": "Python 3",
   "language": "python",
   "name": "python3"
  },
  "language_info": {
   "codemirror_mode": {
    "name": "ipython",
    "version": 3
   },
   "file_extension": ".py",
   "mimetype": "text/x-python",
   "name": "python",
   "nbconvert_exporter": "python",
   "pygments_lexer": "ipython3",
   "version": "3.8.8"
  }
 },
 "nbformat": 4,
 "nbformat_minor": 5
}
