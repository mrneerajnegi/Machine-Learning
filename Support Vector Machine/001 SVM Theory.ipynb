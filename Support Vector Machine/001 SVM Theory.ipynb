{
 "cells": [
  {
   "cell_type": "markdown",
   "id": "8024fb35",
   "metadata": {},
   "source": [
    "# Sipport Vector Machine"
   ]
  },
  {
   "cell_type": "raw",
   "id": "8f5c8437",
   "metadata": {},
   "source": [
    "Hyperplane \n",
    "1-D => is a point\n",
    "2-D => is a line\n",
    "3-D => is a flat plane"
   ]
  },
  {
   "cell_type": "raw",
   "id": "cc55a8fc",
   "metadata": {},
   "source": [
    "Sometime  more bias to lead to better long term results on future data.\n",
    "Distance b/w threshold and the observations is a SOFT MARGIN\n",
    "SOFT MARGIN allows for missclassification inside the margins, basically allows us to introduce more bias in order to reduce variance."
   ]
  },
  {
   "cell_type": "raw",
   "id": "ad4da9bb",
   "metadata": {},
   "source": [
    "MAXIMAL MARGIN CLASSIFIER => Try no misclassifcation and sometimes add too much/variance\n",
    "SUPPORT VECTOR CLASSIFIER => Allows soft margin (allowing more misclassifiction to add more bias and reduce variance)"
   ]
  },
  {
   "cell_type": "raw",
   "id": "ee68417c",
   "metadata": {},
   "source": [
    "Kernals allows to move beyond Support Vector classifier and use Support Vector Machines\n",
    "We use SVM to enable the use of kernal transformation to project to a higher dimension."
   ]
  },
  {
   "cell_type": "markdown",
   "id": "b0f44e1e",
   "metadata": {},
   "source": [
    "# Parameters"
   ]
  },
  {
   "cell_type": "raw",
   "id": "3a52c4f7",
   "metadata": {},
   "source": [
    "C => control regularisation. (Inversly proptional)\n",
    "low value => more misclassification, we allow more points in b/w the margin and hyperplane"
   ]
  },
  {
   "cell_type": "raw",
   "id": "4aed439d",
   "metadata": {},
   "source": [
    "kernal =\"poly\",\"linear\",\"rbf\",\n",
    "\n",
    "\"linear\" =>linear hyperplane\n",
    "\n",
    "\"poly\" => hyperplane will be curve in case of higher degree\n",
    "\n",
    "\"rbf\" => (default)\n",
    "margin are now better fit \n",
    "\n",
    "we can use \"gamma\" with \"rbf\" > \"scale\"|\"auto\"\n",
    "higher value => overfiting to data (margins)\n"
   ]
  },
  {
   "cell_type": "markdown",
   "id": "7a5dc62a",
   "metadata": {},
   "source": [
    "# Support Vector Regression"
   ]
  },
  {
   "cell_type": "raw",
   "id": "85416bb2",
   "metadata": {},
   "source": [
    "It uses the margins to try to connect with the support vector to get the best fit model possible.\n",
    "We dont care too much about what side of the margins the points are actually are, we just care the model use the margins to get a best to actualt data"
   ]
  },
  {
   "cell_type": "markdown",
   "id": "a8b89962",
   "metadata": {},
   "source": [
    "# LinearSVR"
   ]
  },
  {
   "cell_type": "raw",
   "id": "6d3f34d1",
   "metadata": {},
   "source": [
    "LinearSVR can only run with \"linear\" kernel but it faster then svr"
   ]
  },
  {
   "cell_type": "code",
   "execution_count": null,
   "id": "f41d6f6b",
   "metadata": {},
   "outputs": [],
   "source": []
  }
 ],
 "metadata": {
  "kernelspec": {
   "display_name": "Python 3",
   "language": "python",
   "name": "python3"
  },
  "language_info": {
   "codemirror_mode": {
    "name": "ipython",
    "version": 3
   },
   "file_extension": ".py",
   "mimetype": "text/x-python",
   "name": "python",
   "nbconvert_exporter": "python",
   "pygments_lexer": "ipython3",
   "version": "3.8.8"
  }
 },
 "nbformat": 4,
 "nbformat_minor": 5
}
