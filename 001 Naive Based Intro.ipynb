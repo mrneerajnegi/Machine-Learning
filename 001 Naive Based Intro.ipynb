{
 "cells": [
  {
   "cell_type": "raw",
   "id": "213d5adf",
   "metadata": {},
   "source": [
    "Naive Based is the shorthand for a set of algorithms that use baye's theorem for supervised learning classification"
   ]
  },
  {
   "cell_type": "raw",
   "id": "e7a70fd6",
   "metadata": {},
   "source": [
    "Baye's theorem is a probability formula that leverages previously known probabilities to define probablity of related events occuring."
   ]
  },
  {
   "cell_type": "raw",
   "id": "b4df56cb",
   "metadata": {},
   "source": [
    "P(A|B) = P(B|A)*P(A)/P(B)"
   ]
  },
  {
   "cell_type": "raw",
   "id": "a6eb1670",
   "metadata": {},
   "source": [
    "p(A|X1,X2...Xn) ∝ p(A,X1,X2...Xn)\n",
    "                ∝ p(A)p(X1|A)p(X2|A)..\n",
    "                "
   ]
  },
  {
   "cell_type": "raw",
   "id": "5edfb053",
   "metadata": {},
   "source": [
    "By any chance if P(Xi)=0 then p(A|X1,X2...Xn) => 0\n",
    "so for this Alpha smoothing parameter to add counts\n",
    "X1+1,X2+1.... add parameter in all items"
   ]
  },
  {
   "cell_type": "code",
   "execution_count": null,
   "id": "9d652cb3",
   "metadata": {},
   "outputs": [],
   "source": []
  }
 ],
 "metadata": {
  "kernelspec": {
   "display_name": "Python 3",
   "language": "python",
   "name": "python3"
  },
  "language_info": {
   "codemirror_mode": {
    "name": "ipython",
    "version": 3
   },
   "file_extension": ".py",
   "mimetype": "text/x-python",
   "name": "python",
   "nbconvert_exporter": "python",
   "pygments_lexer": "ipython3",
   "version": "3.8.8"
  }
 },
 "nbformat": 4,
 "nbformat_minor": 5
}
